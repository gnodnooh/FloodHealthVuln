{
 "cells": [
  {
   "cell_type": "markdown",
   "metadata": {},
   "source": [
    "## Flood-Health Vulnerability (FHV) Assessment"
   ]
  },
  {
   "cell_type": "code",
   "execution_count": 1,
   "metadata": {},
   "outputs": [],
   "source": [
    "import os\n",
    "import sys\n",
    "import numpy as np\n",
    "import pandas as pd\n",
    "import geopandas as gpd\n",
    "import rasterio\n",
    "from shapely.geometry import Point\n",
    "from sklearn.preprocessing import MinMaxScaler, PowerTransformer, QuantileTransformer\n",
    "import matplotlib.pyplot as plt\n",
    "from functools import reduce\n",
    "import fhv\n",
    "pd.options.mode.chained_assignment = None"
   ]
  },
  {
   "cell_type": "markdown",
   "metadata": {},
   "source": [
    "### Load datasets"
   ]
  },
  {
   "cell_type": "code",
   "execution_count": 116,
   "metadata": {},
   "outputs": [],
   "source": [
    "# Load complete datasets\n",
    "variable_name = pd.read_hdf('./data/variable_table.hdf')\n",
    "variable = np.load('./data/variable.npy')\n",
    "ncell = variable.shape[0]\n",
    "# Load District ID\n",
    "with rasterio.open(os.path.join('data', 'distid_peru.tif')) as src:\n",
    "    did = src.read().squeeze()\n",
    "    meta = src.meta.copy()\n",
    "valid = did > 0\n",
    "valid_id = did[did >0]\n",
    "# Flood Inundation\n",
    "with rasterio.open('./data/inundation_peru.tif') as src:\n",
    "    fdep = src.read(1)\n",
    "# Load population\n",
    "# LandScan 2017: 30,555,036\n",
    "# INEI 2017: 31,237,385\n",
    "with rasterio.open('./data/population_peru.tif') as src:\n",
    "    popu = src.read(1)\n",
    "popu[(popu == -2147483647) | (popu < 0)] = 0    \n",
    "popu = popu/popu.sum()*31237385                 \n",
    "popu = popu.round()\n",
    "npopu = popu.sum()                              # 31,177,745\n",
    "# GDP(PPP) per grid (standard GDP * HYDE population)\n",
    "# WorldBank's 2015 GDP(PPP): $369.342 billion (constant 2011 international $)\n",
    "# WorldBank's 2015 GDP(PPP) per capita: $12,121 (constant 2011 international $)\n",
    "with rasterio.open('./data/gdp_peru.tif') as src:\n",
    "    gdp = src.read(1)\n",
    "gdp[gdp == -9] = 0\n",
    "gdp = gdp/gdp.sum()*369.342*10**9\n",
    "# Hospitals and Travel-time to Health facilities\n",
    "hospital = gpd.read_file('data/health_facility_MINSA_all.shp')\n",
    "# - Flood inundation depth for hospitals\n",
    "hospital = hospital[hospital.x != 0]\n",
    "hospital['geometry'] = hospital['geometry'].to_crs(epsg=32717)\n",
    "coords = [(x,y) for x,y in zip(hospital.geometry.x, hospital.geometry.y)]\n",
    "with rasterio.open('./data/inundation_peru.tif') as src:\n",
    "    hospital['fdep'] = [x[0] for x in src.sample(coords)]    # Inundation value\n",
    "# - Travel-time to health facilities\n",
    "ttime_nf = rasterio.open('./data/traveltime/health_noflood.tif').read(1)\n",
    "ttime_yf = rasterio.open('./data/traveltime/health_yesflood.tif').read(1)\n",
    "ttime_nf[np.isin(ttime_nf, [-32768, -1])] = 0\n",
    "ttime_yf[np.isin(ttime_yf, [-32768, -1])] = 0\n",
    "att = np.abs(ttime_yf - ttime_nf)"
   ]
  },
  {
   "cell_type": "markdown",
   "metadata": {},
   "source": [
    "### FHV Assessment - Custom weight\n"
   ]
  },
  {
   "cell_type": "code",
   "execution_count": 32,
   "metadata": {},
   "outputs": [
    {
     "name": "stdout",
     "output_type": "stream",
     "text": [
      "./data/vulnability_custom.tif is saved.\n"
     ]
    }
   ],
   "source": [
    "# Custom weights\n",
    "cwgt = pd.read_excel('./data/variable_weight_custom.xlsx')\n",
    "cwgt = cwgt[['Name','Weight']] \n",
    "cwgt.drop(cwgt.tail(1).index,inplace=True)\n",
    "cwgt = variable_name.merge(cwgt,on='Name').Weight.values\n",
    "# Customized Vulnerability\n",
    "vuln_custom = np.dot(variable,cwgt)\n",
    "vuln_custom = fhv.ValidCellToMap(vuln_custom, valid, dtype='float32', nodata=-9999)\n",
    "# Saving as GeoTiff\n",
    "if True:\n",
    "    fhv.GenerateRaster('./data/vulnability_custom.tif', meta, vuln_custom, \n",
    "                       new_dtype=rasterio.float32, new_nodata=-9999)"
   ]
  },
  {
   "cell_type": "markdown",
   "metadata": {},
   "source": [
    "### FHV Assessment - Random weight"
   ]
  },
  {
   "cell_type": "code",
   "execution_count": 114,
   "metadata": {},
   "outputs": [
    {
     "name": "stdout",
     "output_type": "stream",
     "text": [
      "./data/vulnability_random.tif is saved.\n",
      "./data/vulnability_random_logit.tif is saved.\n"
     ]
    }
   ],
   "source": [
    "# Sensitivity analysis with random weights\n",
    "nt = 1000      # Must be a multiple of 100\n",
    "thsd = 0.55\n",
    "freq = np.zeros([variable.shape[0],1])\n",
    "for i in range(nt//100):\n",
    "    rwgt = np.random.random([variable.shape[1],100])\n",
    "    rwgt = rwgt/rwgt.sum(axis=0)\n",
    "    score = np.dot(variable,rwgt)\n",
    "    freq += (score > thsd).sum(1)[:,None]\n",
    "vuln_random = freq/nt\n",
    "vuln_random = fhv.ValidCellToMap(vuln_random.squeeze(), valid, dtype='float32', nodata=-9999)\n",
    "# Temporarily\n",
    "vuln_random[vuln_random < 0.7] = -9999\n",
    "vulnRand = vuln_random.copy()\n",
    "vulnRand[vulnRand>=0.7] = 1\n",
    "vulnRand[vulnRand<0.7] = 0\n",
    "vulnRand = vulnRand.astype('int8')\n",
    "# Saving as GeoTiff\n",
    "if True:\n",
    "    fhv.GenerateRaster('./data/vulnability_random.tif', meta, vuln_random, \n",
    "                       new_dtype=rasterio.float32, new_nodata=-9999)\n",
    "    fhv.GenerateRaster('./data/vulnability_random_logit.tif', meta, vulnRand, \n",
    "                       new_dtype=rasterio.int8, new_nodata=0)"
   ]
  },
  {
   "cell_type": "markdown",
   "metadata": {},
   "source": [
    "### Impact Assessment"
   ]
  },
  {
   "cell_type": "code",
   "execution_count": 120,
   "metadata": {},
   "outputs": [
    {
     "name": "stdout",
     "output_type": "stream",
     "text": [
      "==================================================\n",
      "Impact Assessment\n",
      "--------------------------------------------------\n",
      "Affected population:\t 1,047,864 (3.4%)\n",
      "Affected GDP(PPP):\t$1,428,493,508\n",
      "Population in FHV:\t   190,891 (0.6%)\n",
      "Area of FHV:\t1.90%\n",
      "Population in PVZ:\t   146,737 (0.5%)\n",
      "Area of PVZ:\t5.57%\n",
      "Damaged Hospitals:\t   250/8042 (3.1%)\n",
      "Low accessibility:\t   218,492 (0.7%)\n",
      "==================================================\n"
     ]
    }
   ],
   "source": [
    "# Impact Assessment\n",
    "# (1) Affected popoulation\n",
    "# *Affected population is assumed to increase linearly with water level until 2 meters.\n",
    "thsd = 10\n",
    "ratio = fdep.copy()\n",
    "ratio[ratio <= thsd] = ratio[ratio <= thsd]/thsd\n",
    "ratio[ratio > thsd] = 1\n",
    "popuAfft = np.sum(ratio*popu)\n",
    "# (2) Affected GDP\n",
    "# *Affected GDP is assumed to increase linearly with water level from a damage of zero \n",
    "# for a water level of zero, to a maximum affected GDP at a water level of 3 meter.\n",
    "thsd = 30\n",
    "ratio = fdep.copy()\n",
    "ratio[ratio <= thsd] = ratio[ratio <= thsd]/thsd\n",
    "ratio[ratio > thsd] = 1\n",
    "gdpAfft = np.sum(ratio*gdp)\n",
    "# (3) Population in FHV zones\n",
    "popuFHV = popu[vuln_custom >= 0.6].sum()\n",
    "# (4) Populaion in PDV zone\n",
    "popuPDV = popu[vuln_random >= 0.7].sum()\n",
    "# (5) Affected Hospitals\n",
    "# *If flood depth is over 1 meter\n",
    "thsd = 10\n",
    "nhsp = hospital.shape[0]\n",
    "hspAfft = (hospital.fdep > 10).sum()\n",
    "# Population with low accessibility\n",
    "# *If Addtional Travel Time (ATT) is over \n",
    "thsd = 3*60\n",
    "attAfft = popu[att > thsd].sum()\n",
    "# Print the results of the Impacts Assessment\n",
    "print('==================================================')\n",
    "print('Impact Assessment')\n",
    "print('--------------------------------------------------')\n",
    "print('Affected population:\\t{:>10,d} ({:.1f}%)'.format(int(popuAfft), popuAfft/npopu*100))\n",
    "print('Affected GDP(PPP):\\t${:>7,.0f}'.format(gdpAfft))\n",
    "print('Population in FHV:\\t{:>10,d} ({:.1f}%)'.format(int(popuFHV), popuFHV/npopu*100))\n",
    "print('Area of FHV:\\t{:.2f}%'.format((vuln_custom>=0.6).sum()/ncell*100))\n",
    "print('Population in PVZ:\\t{:>10,d} ({:.1f}%)'.format(int(popuPDV), popuPDV/npopu*100))\n",
    "print('Area of PVZ:\\t{:.2f}%'.format((vuln_random>=0.7).sum()/ncell*100))\n",
    "print('Damaged Hospitals:\\t{:6d}/{:3d} ({:.1f}%)'.format(int(hspAfft), nhsp, hspAfft/nhsp*100))\n",
    "print('Low accessibility:\\t{:>10,d} ({:.1f}%)'.format(int(attAfft), attAfft/npopu*100))\n",
    "print('==================================================')\n",
    "\n",
    "# print('PdomHzon area-A:\\t{:.2f}%'.format(pdomHzonAreaA))\n",
    "# print('PdomHzon area-B:\\t{:.2f}%'.format(pdomHzonAreaB))\n",
    "# print('Popu in pdomHzon-A:\\t{:>10,d} ({:.1f}%)'.format(int(pdomHzonPopuA), pdomHzonPopuA/popuTotl*100))\n",
    "# print('Popu in pdomHzon-B:\\t{:>10,d} ({:.1f}%)'.format(int(pdomHzonPopuB), pdomHzonPopuB/popuTotl*100))\n",
    "# print('Hzon in pdomHzon-A:\\t{:.2f}%'.format(hzonInPdomA*100))\n",
    "# print('Hzon in pdomHzon-B:\\t{:.2f}%'.format(hzonInPdomB*100))\n",
    "# print('Affected GDP:\\t\\t${:>7,.1f} B'.format(gdpAfft/10**9))\n",
    "# print('Affected GDP per capita:${:>7,.1f} ({:.1f}%)'.format(gdpAfft/popuTotl, (gdpAfft/popuTotl)/(gdp.sum()/popuTotl)*100))\n",
    "# print('*GDP(PPP) per capita:\\t${:>7,d}'.format(int(gdp.sum()/popuTotl)))\n",
    "# print('*Total population:     {:>,d}'.format(int(popuTotl)))\n",
    "# print('--------------------------------------------------')\n",
    "# print('Health Risk Assessment')\n",
    "# print('--------------------------------------------------')\n",
    "# print('Affected PHC:\\t\\t{:5d}/{:3d} ({:.1f}%)'.format(int(phcAfft), nphc, phcAfft/nphc*100))\n",
    "# print('Affected Hospitals:\\t{:6d}/{:3d} ({:.1f}%)'.format(int(hspAfft), nhsp, hspAfft/nhsp*100))\n",
    "# print('ATT(>1hr) to PHC:\\t{:>10,d} ({:.1f}%)'.format(int(popuAttPhc), popuAttPhc/popuTotl*100))\n",
    "# print('ATT(>1hr) to Hospital:\\t{:>10,d} ({:.1f}%)'.format(int(popuAttHsp), popuAttHsp/popuTotl*100))\n",
    "# print('==================================================')"
   ]
  },
  {
   "cell_type": "code",
   "execution_count": 117,
   "metadata": {},
   "outputs": [
    {
     "data": {
      "text/plain": [
       "0.01897337872694876"
      ]
     },
     "execution_count": 117,
     "metadata": {},
     "output_type": "execute_result"
    }
   ],
   "source": []
  },
  {
   "cell_type": "code",
   "execution_count": null,
   "metadata": {},
   "outputs": [],
   "source": [
    "\n",
    "# # Mapping\n",
    "# import matplotlib.pyplot as plt\n",
    "# from matplotlib.patches import Patch\n",
    "# from matplotlib.colors import ListedColormap\n",
    "# import matplotlib.colors as colors\n",
    "# from rasterio.plot import plotting_extent\n",
    "# # from pyproj import Proj, transform    # In case of re-projection\n",
    "# import seaborn as sns\n",
    "# sns.set(font_scale=1.5, style=\"white\")\n",
    "# # Adiministrative boundary\n",
    "# peru_admin0 = gpd.read_file('./data/per_admbnda_adm0_2018.shp')\n",
    "# peru_admin0 = peru_admin0.to_crs({'init':'epsg:32717'})\n",
    "# lims = [-9086003.265, -7611331.177, -2103824.411, 31907.578]\n",
    "# # Define the colors you want\n",
    "# cmap = ListedColormap([\"white\", \"tan\", \"springgreen\", \"darkgreen\"])\n",
    "\n",
    "# # Define a normalization from values -> colors\n",
    "# norm = colors.BoundaryNorm([0.4, 0.5, 0.6, 1.0], 4)\n",
    "# fig, ax = plt.subplots(figsize=(5, 10), facecolor='w')\n",
    "# ax.set_axis_off()\n",
    "# ax.set_aspect('equal')\n",
    "# ax.axis(lims)\n",
    "# chm_plot = ax.imshow(vuln_custom,cmap=cmap,norm=norm)\n",
    "# peru_admin0.plot(ax=ax, color='white', edgecolor='black')\n",
    "\n",
    "# # ax.set_title(\"Lidar Canopy Height Model (CHM)\")\n",
    "# # Add a legend for labels\n",
    "# # legend_labels = {\"tan\": \"short\", \"springgreen\": \"medium\", \"darkgreen\": \"tall\"}\n",
    "# # patches = [Patch(color=color, label=label)\n",
    "# #            for color, label in legend_labels.items()]\n",
    "# # ax.legend(handles=patches,\n",
    "# #           bbox_to_anchor=(1.35, 1),\n",
    "# #           facecolor=\"white\")\n",
    "# plt.tight_layout()\n",
    "# plt.show()\n"
   ]
  },
  {
   "cell_type": "code",
   "execution_count": null,
   "metadata": {},
   "outputs": [],
   "source": []
  }
 ],
 "metadata": {
  "kernelspec": {
   "display_name": "Python 3",
   "language": "python",
   "name": "python3"
  },
  "language_info": {
   "codemirror_mode": {
    "name": "ipython",
    "version": 3
   },
   "file_extension": ".py",
   "mimetype": "text/x-python",
   "name": "python",
   "nbconvert_exporter": "python",
   "pygments_lexer": "ipython3",
   "version": "3.6.7"
  }
 },
 "nbformat": 4,
 "nbformat_minor": 2
}
