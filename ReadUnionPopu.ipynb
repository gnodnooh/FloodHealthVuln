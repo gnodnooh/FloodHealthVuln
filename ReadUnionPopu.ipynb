{
 "cells": [
  {
   "cell_type": "markdown",
   "metadata": {},
   "source": [
    "### Bangladesh Population in Unions (ADM4 Level)\n",
    "- GeoCode is obtained from [BBS Geo Location Registry](http://app.dghs.gov.bd/bbscode/)\n",
    "- Bangladesh population is **144,043,697** (BBS) and **149,273,778** (WorldBank) in 2011, and **159,670,593** (WorldBank) in 2017.\n",
    "- 'bgd_admbnda_adm4_bbs_20180410.shp' has 5,160 unions\n",
    "- Municipal Corporations, also known as **Paurasava**, are the local governing bodies of the cities and towns in Bangladesh. There are 327 such municipal corporations in eight divisions of Bangladesh. The Paurasava consists of multiple Wards and is spatially represented as a single feature with PCODE likes \"XXXXXX99\". However, the city coporation has its own Wards that are spatially represented in the shapefile.\n",
    "- Mymensingh (45) division consists of 4 districts: Sherpur (4589), Jamalpur (4539), Mymensingh (4561), Netrakona (4572). It was created in 2015 from districts previously comprising the northern part of Dhaka Division in 2015. In the 2011 Census data, these districts are included into Dhaka division (30). So we need to modify it in order to link with 2018 Shapefile."
   ]
  },
  {
   "cell_type": "code",
   "execution_count": 1,
   "metadata": {},
   "outputs": [],
   "source": [
    "import numpy as np\n",
    "import pandas as pd\n",
    "import xlsxwriter\n",
    "import geopandas as gpd\n",
    "from tabula import read_pdf\n",
    "import fhv"
   ]
  },
  {
   "cell_type": "code",
   "execution_count": 2,
   "metadata": {},
   "outputs": [],
   "source": [
    "shape = gpd.read_file('./data/admin_boundary/bgd_admbnda_adm4_bbs_20180410.shp')\n",
    "shape = shape[shape.columns[[12,11,10,9,8,7,3,2]]].sort_values('ADM4_PCODE').reset_index(drop=True)\n",
    "ucode_shape = shape[['ADM4_PCODE','ADM4_EN']]\n",
    "ucode_shape.columns = ['Ucode','Name']"
   ]
  },
  {
   "cell_type": "markdown",
   "metadata": {},
   "source": [
    "### Load BBS Geocode Union PDFs\n",
    "We need to import this files in order to identify/classify city corporations and paurasava."
   ]
  },
  {
   "cell_type": "code",
   "execution_count": 3,
   "metadata": {},
   "outputs": [],
   "source": [
    "if False:\n",
    "    # Barisal (10)\n",
    "    df = read_pdf('./data/union/Geocode Union_Barisal2015.pdf',pages='all',multiple_tables=False,\n",
    "                  pandas_options={'header':0,'skiprows':3})\n",
    "    df10 = df.drop(df.columns[-1], axis=1).dropna(axis=0, how='all').reset_index(drop=True)\n",
    "    df10.columns = ['Division','Zila','Upazila','Paurasava','Union','Name']\n",
    "    # Chittagong (20)\n",
    "    df = pd.read_excel('./data/union/Geocode Union_Chittagong2015.xlsx',header=0, skiprows=1)\n",
    "    df = df.dropna(axis=0, how='all').reset_index(drop=True)\n",
    "    df.columns = ['Division','Zila','Upazila','Paurasava','Union','Name']\n",
    "    df = df.loc[df['Division'] != 'Division']\n",
    "    df20 = df.loc[df['Division'] != -1]\n",
    "    # Dhaka (30)\n",
    "    df = read_pdf('./data/union/Geocode Union_Dhaka2015.pdf',pages='all',multiple_tables=False,\n",
    "                  pandas_options={'header':0,'skiprows':2})\n",
    "    df30 = df.dropna(axis=0, how='all').reset_index(drop=True)\n",
    "    df30.columns = ['Division','Zila','Upazila','Paurasava','Union','Name']\n",
    "    # Khulna (40)\n",
    "    df = read_pdf('./data/union/Geocode Union_Khulna2015.pdf',pages='all',multiple_tables=False,\n",
    "                  pandas_options={'header':0,'skiprows':2})\n",
    "    df40 = df.dropna(axis=0, how='all').reset_index(drop=True)\n",
    "    df40.columns = ['Division','Zila','Upazila','Paurasava','Union','Name']\n",
    "    # Rajshahi (50)\n",
    "    df = read_pdf('./data/union/Geocode Union_Rajshahi2015.pdf',pages='all',multiple_tables=False,\n",
    "                  pandas_options={'header':0,'skiprows':2})\n",
    "    df50 = df.dropna(axis=0, how='all').reset_index(drop=True)\n",
    "    df50.columns = ['Division','Zila','Upazila','Paurasava','Union','Name']\n",
    "    # Rangpur (55)\n",
    "    df = read_pdf('./data/union/Geocode Union_Rangpur2015.pdf',pages='all',multiple_tables=False,\n",
    "                  pandas_options={'header':0,'skiprows':2})\n",
    "    df55 = df.dropna(axis=0, how='all').reset_index(drop=True)\n",
    "    df55.columns = ['Division','Zila','Upazila','Paurasava','Union','Name']\n",
    "    # Sylhet (60)\n",
    "    df = read_pdf('./data/union/Geocode Union_Sylhet2015.pdf',pages='all',multiple_tables=False,\n",
    "                  pandas_options={'header':0,'skiprows':2})\n",
    "    df60 = df.dropna(axis=0, how='all').reset_index(drop=True)\n",
    "    df60.columns = ['Division','Zila','Upazila','Paurasava','Union','Name']\n",
    "    # Merge\n",
    "    df = pd.concat([df10, df20, df30, df40, df50, df55, df60])\n",
    "    # Remove unnecessary rows\n",
    "    remove = (df['Name'].isna()) | (df['Name'] == 'Name') | (df['Name'] == '(6)')\n",
    "    df = df[~remove]\n",
    "    # Split merged codes in Paurasava column\n",
    "    targ = df['Paurasava'].str.len() == 5\n",
    "    new = df.loc[targ, 'Paurasava'].str.split(' ',n=1,expand = True)\n",
    "    df.loc[targ, 'Paurasava'] = new[0]\n",
    "    df.loc[targ, 'Union'] = new[1]\n",
    "    gcode = df.reset_index(drop=True)\n",
    "    # Change dtype to float\n",
    "    gcode[gcode.columns[:-1]] = gcode[gcode.columns[:-1]].astype(np.float)\n",
    "    gcode.to_excel('./data/union/Geocode_temp.xlsx')\n",
    "else:\n",
    "    gcode = pd.read_excel('./data/union/Geocode_temp.xlsx',index_col=0)"
   ]
  },
  {
   "cell_type": "markdown",
   "metadata": {},
   "source": [
    "### Load Union Statistics (BBS, 2011)\n",
    "Reads BBS 2011 Census - Union Statistics (union_stats_extracted.xlsx)"
   ]
  },
  {
   "cell_type": "code",
   "execution_count": 4,
   "metadata": {},
   "outputs": [],
   "source": [
    "# Load extracted (converted from PDF manually by Donghoon)\n",
    "df = pd.read_excel('./data/union/union_stats_extracted.xlsx',\n",
    "                   skiprows=0,header=0,skipfooter=0)\n",
    "\n",
    "### MANUALLY REMOVE ROWS ###\n",
    "# Remove row of 'Brahmanpara  Paurashava' (This is unnessary row)\n",
    "df = df.drop(df.index[df['Name'] == 'Brahmanpara  Paurashava'].values, axis=0).reset_index(drop=True)\n",
    "df = df[df['Name'].str.contains(\"chittagang cnt.\",case=False) == False]\n",
    "\n",
    "# Add a column of Paurasava\n",
    "df.insert(3, \"Paurasava\",np.full(df.shape[0], np.nan))\n",
    "# Creat a subset of data\n",
    "stat = df[df.columns[:6]].copy()\n",
    "stat[stat.columns[:5]] = stat[stat.columns[:5]].astype('float')\n",
    "\n",
    "# Assign Paurasava values from Geocode\n",
    "union_gcode = gcode['Division']*10**6+gcode['Zila']*10**4+gcode['Upazila']*10**2+gcode['Union']\n",
    "union_stat = stat['Division']*10**6+stat['Zila']*10**4+stat['Upazila']*10**2+stat['Union']\n",
    "same = np.intersect1d(union_stat,union_gcode, return_indices=True, assume_unique=False)\n",
    "stat.iloc[same[1],3] = gcode.iloc[same[2],3].values\n",
    "# ID for unselected unions\n",
    "stat.loc[stat['Name'].str.contains(' union',na=False),'Paurasava'] = 99\n",
    "# ID for Paurashava rows\n",
    "stat = stat.reset_index(drop=True)\n",
    "ip = stat.index[stat['Name'].str.contains('paurashava',na=False,case=False)].values                                   \n",
    "stat.iloc[ip,3] = stat.iloc[ip+1,3].values\n",
    "\n",
    "# Insert 8 digits UCODE\n",
    "stat['Ucode'] = stat['Division']*10**6+stat['Zila']*10**4+stat['Upazila']*10**2+stat['Union']\n",
    "stat = stat[stat.columns[[0,1,2,3,4,6,5]]]\n",
    "\n",
    "### MANUAL CHANGES (ADD/REMOVE) ###\n",
    "# - Restore missing names in the official documents\n",
    "stat.loc[stat['Ucode'] == 50882727, 'Name'] = 'KHAS KAULIA'\n",
    "\n",
    "# Change names (removing total and union in the strings)\n",
    "targ = stat['Union'].notna()\n",
    "name = stat.loc[targ,'Name'].reset_index(drop=True)\n",
    "name = name.str.replace(' Total','')\n",
    "name = name.str.replace(' union','')\n",
    "name = name.str.replace(' Union','')\n",
    "name = name.str.replace(' Unio','')\n",
    "name = name.str.replace(' Dakshin','')\n",
    "\n",
    "stat.loc[targ,'Name'] = name.values\n",
    "stat['Name'] = stat['Name'].str.upper()\n",
    "\n",
    "### ADD MISSED ROWS ###\n",
    "def InsertRows(dfstat, head, rows):\n",
    "    '''This function isert rows right below the head row and return df.\n",
    "    '''\n",
    "    dfstat = dfstat.copy()\n",
    "    rows = pd.DataFrame(rows, columns=dfstat.columns)\n",
    "    tdx = np.argwhere([dfstat['Name'] == head])[0][1]\n",
    "    dfstat = pd.concat([dfstat.iloc[:tdx+1], rows, dfstat.iloc[tdx+1:]]).reset_index(drop=True)\n",
    "    return dfstat\n",
    "\n",
    "# Under \"CHAPITALA\"\n",
    "rows = [(20,19,81,99,27,20198127,'DARORA'),\n",
    "        (20,19,81,99,31,20198131,'CHHALIAKANDI'),\n",
    "        (20,19,81,99,36,20198136,'DHAMGHAR')]\n",
    "stat = InsertRows(stat, 'CHAPITALA', rows)\n",
    "# Under \"BARA BAKIA\"\n",
    "rows = [(20,22,56,99,55,20225655,'UJANTIA')]\n",
    "stat = InsertRows(stat, 'BARA BAKIA', rows)\n",
    "# Under \"GHARJAN\"\n",
    "rows = [(50,88,27,99,27,50882727,'KHAS KAULIA')]\n",
    "stat = InsertRows(stat, 'GHARJAN', rows)\n",
    "\n",
    "# Retouch Code\n",
    "stat['Ucode'] = stat['Division']*10**6+stat['Zila']*10**4+stat['Upazila']*10**2+stat['Union']\n",
    "# - Insert ADM3_PCODE TO stat\n",
    "stat.insert(3, 'ADM3_PCODE', stat['Division']*10**4+stat['Zila']*10**2+stat['Upazila'])\n",
    "\n",
    "# Subset of Union codes and names\n",
    "targ = stat['Union'].notna()\n",
    "ucode_stat = stat[['Ucode','Name']][targ].reset_index(drop=True)\n",
    "\n",
    "# Save (temporarily)\n",
    "stat.to_excel('./data/union/stat_temp.xlsx')\n",
    "# stat.head(50)\n"
   ]
  },
  {
   "cell_type": "markdown",
   "metadata": {},
   "source": [
    "### Load Union Population in Age 5 years group\n",
    "Reads BBS 2011 Census - Union Age5 population data (e.g., age5_Rangpur.xls)\n",
    "- Some unions don't have rows (no population) for some age 5 years groups..."
   ]
  },
  {
   "cell_type": "code",
   "execution_count": 5,
   "metadata": {},
   "outputs": [],
   "source": [
    "# Load each files\n",
    "df10 = fhv.LoadUnionAge5('./data/union/age5_Barisal.xls')\n",
    "df20 = fhv.LoadUnionAge5('./data/union/age5_Chittagong_modified.xls')\n",
    "df30 = fhv.LoadUnionAge5('./data/union/age5_Dhaka_modified.xls')\n",
    "df40 = fhv.LoadUnionAge5('./data/union/age5_Khulna.xls')\n",
    "df50 = fhv.LoadUnionAge5('./data/union/age5_Rajshahi_modified.xls')\n",
    "df55 = fhv.LoadUnionAge5('./data/union/age5_Rangpur.xls')\n",
    "df60 = fhv.LoadUnionAge5('./data/union/age5_Sylhet_modified.xls')\n",
    "df = pd.concat([df10, df20, df30, df40, df50, df55, df60])\n",
    "\n",
    "# Restore names when Union ID were assigned\n",
    "targ = df['Union'].astype(str).str.isdigit()\n",
    "name = df.loc[targ, 'Union']\n",
    "name_num = np.unique(name)\n",
    "name_str = ucode_stat.iloc[np.intersect1d(name_num, ucode_stat['Ucode'],return_indices=True)[2],1].values\n",
    "for i, val in enumerate(name_num):\n",
    "    name.loc[name == val] = name_str[i]\n",
    "df.loc[targ, 'Union'] = name\n",
    "\n",
    "### MANUAL CHANGES (REMOVE/ADD ROWS) ###\n",
    "df = df[(df['Union'].str.lower() == \"chittagang cnt.\") == False].reset_index(drop=True)\n",
    "\n",
    "# Capitalize characters\n",
    "ucode_age5 = df[df['Age5'] == 'Total']['Union'].reset_index(drop=True)\n",
    "\n",
    "# \"ucode_stat\" and \"ucode_age5\" are cross-validated (by Donghoon)\n",
    "if False:\n",
    "    # Retouch (Remove \"Union\", \"Dakshin\")\n",
    "    ucode_age5 = ucode_age5.str.upper()\n",
    "    ucode_age5 = ucode_age5.str.replace(' UNION','')\n",
    "    ucode_age5 = ucode_age5.str.replace(' DAKSHIN','')\n",
    "    ucode_age5 = ucode_age5.str.replace('LAKSHMIPUR MODEL','SAKHUA')\n",
    "    # Save Ucodes to comparison\n",
    "    writer = pd.ExcelWriter('./data/union/ucode_comp.xlsx', engine='xlsxwriter')\n",
    "    ucode_shape.to_excel(writer, sheet_name='Sheet2')\n",
    "    ucode_stat.to_excel(writer, sheet_name='Sheet1', startcol=0)\n",
    "    ucode_age5.to_excel(writer, sheet_name='Sheet1', startcol=3)\n",
    "    writer.save()\n",
    "    \n",
    "# Copy and Modify a dataframe\n",
    "age5 = df.copy()\n",
    "diff = age5[age5['Age5'] == 'Total'].index.values + 1\n",
    "leng = np.append(diff[0],diff[1:] - diff[:-1])\n",
    "swap = ucode_stat['Ucode'].repeat(leng)\n",
    "age5['Union'] = swap.values\n",
    "total = age5.pivot(index='Union',columns='Age5',values='Total')\n",
    "total.index = total.index.astype(int)"
   ]
  },
  {
   "cell_type": "code",
   "execution_count": null,
   "metadata": {},
   "outputs": [],
   "source": []
  },
  {
   "cell_type": "markdown",
   "metadata": {},
   "source": [
    "### Link Shapfile IDs to Union Statistics\n",
    "We will change division codes of unions in Mymensingh (45) to Dhaka (30), then link to the data and rechange them later."
   ]
  },
  {
   "cell_type": "code",
   "execution_count": 86,
   "metadata": {},
   "outputs": [],
   "source": [
    "# Control Mymensingh (45) division\n",
    "# - Mymensingh (45): Sherpur (4589), Jamalpur (4539), Mymensingh (4561), Netrakona (4572)\n",
    "f45t30 = shape.loc[shape['ADM1_PCODE'] == '45', 'ADM4_PCODE'].str.replace('45','30',n=2)\n",
    "shape.loc[shape['ADM1_PCODE'] == '45', 'ADM4_PCODE'] = f45t30.values\n",
    "\n",
    "# Create an empty dataframe to be filled with data\n",
    "group = total.columns\n",
    "data = pd.DataFrame(index=shape['ADM4_PCODE'],columns=group).reset_index()\n",
    "data.insert(1, 'Name1', shape['ADM4_EN'])\n",
    "data.insert(2, 'Name2', np.NaN)\n",
    "data.columns.name = ''\n",
    "igroup = data.columns.get_indexer(group)\n",
    "\n",
    "# Copy matched unions with UCODE\n",
    "match = np.intersect1d(shape['ADM4_PCODE'].astype(int), total.index, return_indices=True)\n",
    "data.iloc[match[1],igroup] = total.iloc[match[2],:].values\n",
    "data.iloc[match[1],2] = ucode_stat.iloc[match[2],1].values"
   ]
  },
  {
   "cell_type": "code",
   "execution_count": 135,
   "metadata": {},
   "outputs": [
    {
     "name": "stdout",
     "output_type": "stream",
     "text": [
      "62\n"
     ]
    }
   ],
   "source": [
    "### CONTROL PAURASHAVA\n",
    "# - Paurashava list\n",
    "plist = data.loc[data['Name2'].isna(), ['ADM4_PCODE','Name1']]\n",
    "plist.insert(0, 'ADM3_PCODE', plist['ADM4_PCODE'].str[:6].astype(int))\n",
    "# - ADM3_PCODE List\n",
    "adm3List = np.unique(plist['ADM3_PCODE'])\n",
    "\n",
    "# Apply an Algorithm per ADM3 unit\n",
    "for adm3 in adm3List:\n",
    "    \n",
    "# adm3 = 201553 # two\n",
    "# adm3 = 201395 # one\n",
    "\n",
    "    # Potential Paurasava(s) in the current ADM3_PCODE\n",
    "    adm4List = plist[plist['ADM3_PCODE'] == adm3]\n",
    "\n",
    "    # Paurasava codes (\"99\" means nomal union)\n",
    "    targ = (stat['ADM3_PCODE'] == adm3) & (stat['Paurasava'].notna()) & (stat['Paurasava'] != 99) \n",
    "    pcode = np.unique(stat.loc[targ,'Paurasava'])\n",
    "    table = stat.loc[targ,['Paurasava','Union','Ucode','Name']]   # Corresponding table\n",
    "\n",
    "    # Find the row of Paurashava\n",
    "    go = table['Ucode'].isna()\n",
    "    if (adm4List.shape[0] == 1) & (go.sum() == 1):\n",
    "        # (1) Single unmatched union & Single Paurashava in ADM3\n",
    "\n",
    "        # Select the rows of Wards to be merged to Paurashava\n",
    "        go_name = table.loc[go, 'Name'].values[0]\n",
    "        go_ucode = table.loc[~go,'Ucode'].values\n",
    "        # Insert Name and Merged data to Paurashava\n",
    "        data.iloc[adm4List.index, 3:] = total[total.index.isin(go_ucode)].sum().values\n",
    "        data.iloc[adm4List.index, 2] = go_name\n",
    "\n",
    "    elif (adm4List.shape[0] > 1) & (go.sum() == 1):\n",
    "        # (2) Multiple unmatched unions & Single Paurashava in ADM3\n",
    "        if adm4List['Name1'].str.contains('paurashava', case=False).sum() == 1:\n",
    "            # Only one Paurashava (Ignore others)\n",
    "            adm4True = adm4List[adm4List['Name1'].str.contains('paurashava', case=False)]\n",
    "\n",
    "            # Select the rows of Wards to be merged to Paurashava\n",
    "            go_name = table.loc[go, 'Name'].values[0]\n",
    "            go_ucode = table.loc[~go,'Ucode'].values\n",
    "            # Insert Name and Merged data to Paurashava\n",
    "            data.iloc[adm4True.index, 3:] = total[total.index.isin(go_ucode)].sum().values\n",
    "            data.iloc[adm4True.index, 2] = go_name\n",
    "\n",
    "            \n",
    "            \n",
    "            \n",
    "            \n",
    "# # Save\n",
    "data.to_excel('./data/union/union_merged.xlsx')\n",
    "print(data['Name2'].isna().sum())"
   ]
  },
  {
   "cell_type": "code",
   "execution_count": 134,
   "metadata": {},
   "outputs": [
    {
     "data": {
      "text/plain": [
       "0"
      ]
     },
     "execution_count": 134,
     "metadata": {},
     "output_type": "execute_result"
    }
   ],
   "source": [
    "go.sum()"
   ]
  },
  {
   "cell_type": "code",
   "execution_count": 66,
   "metadata": {},
   "outputs": [
    {
     "data": {
      "text/plain": [
       "1"
      ]
     },
     "execution_count": 66,
     "metadata": {},
     "output_type": "execute_result"
    }
   ],
   "source": [
    "targ = (stat['ADM3_PCODE'] == adm3) & (stat['Paurasava'].notna()) & (stat['Paurasava'] != 99) \n",
    "pcode = np.unique(stat.loc[targ,'Paurasava'])\n",
    "len(pcode)\n",
    "# table = stat.loc[targ,['Paurasava','Union','Ucode','Name']]\n",
    "# table"
   ]
  },
  {
   "cell_type": "code",
   "execution_count": 60,
   "metadata": {},
   "outputs": [
    {
     "data": {
      "text/plain": [
       "1225     True\n",
       "1226    False\n",
       "1227    False\n",
       "1228    False\n",
       "1229    False\n",
       "1230    False\n",
       "1231    False\n",
       "1232    False\n",
       "1233    False\n",
       "1234    False\n",
       "Name: Ucode, dtype: bool"
      ]
     },
     "execution_count": 60,
     "metadata": {},
     "output_type": "execute_result"
    }
   ],
   "source": [
    "go"
   ]
  },
  {
   "cell_type": "code",
   "execution_count": null,
   "metadata": {},
   "outputs": [],
   "source": []
  },
  {
   "cell_type": "code",
   "execution_count": null,
   "metadata": {},
   "outputs": [],
   "source": []
  },
  {
   "cell_type": "code",
   "execution_count": null,
   "metadata": {},
   "outputs": [],
   "source": []
  },
  {
   "cell_type": "code",
   "execution_count": null,
   "metadata": {},
   "outputs": [],
   "source": []
  },
  {
   "cell_type": "code",
   "execution_count": null,
   "metadata": {},
   "outputs": [],
   "source": []
  },
  {
   "cell_type": "markdown",
   "metadata": {},
   "source": [
    "### Type of House and Tenancy"
   ]
  },
  {
   "cell_type": "code",
   "execution_count": 30,
   "metadata": {},
   "outputs": [],
   "source": [
    "df = pd.read_excel('./data/union/Type of House and Tenancy.xls',\n",
    "                   skiprows=11,header=0,index_col=0,skipfooter=8)\n",
    "\n"
   ]
  },
  {
   "cell_type": "markdown",
   "metadata": {},
   "source": [
    "### Read Disaster-realted Statistics (BBS, 2015)"
   ]
  },
  {
   "cell_type": "code",
   "execution_count": null,
   "metadata": {},
   "outputs": [],
   "source": []
  },
  {
   "cell_type": "code",
   "execution_count": null,
   "metadata": {},
   "outputs": [],
   "source": [
    "# ADD RERIGION\n",
    "\n",
    "\n",
    "\n",
    "# Disaster-related Statistics (BBS, 2015)\n",
    "Table 4: Distribution of household by main source of income and received remittance by division and district, 2014\n",
    "Table 5: Distribution of main source oflighting and cooking fuel by division and district, 2014.\n",
    "Table 18: Distribution of annual household income from agricultural products by division and district, 2014.\n",
    "Table 20: Distribution of annual household income from non-agricultural sector by division and district, 2014.\n",
    "Table 22 : Distribution of annual household income from other source by division and district, 2014.\n",
    "Table 23: Distribution of Disaster affected times of household by division, 2009-'14.\n",
    "Table 24: Distribution of affected households by disaster categories by division, 2009-'14.\n",
    "Table 25: Distribution of affected household and disaster categories by division and district, 2009-'14.\n",
    "Table 26: Distribution of household number of non working days due to last natural disaster by disaster categories and division, 2009-'14.\n",
    "Table 27: Distribution of Affected Household got early warning by disaster categories and division, 2009-'14.\n",
    "Table 28: Distribution of household got early warning by type of media, disaster categories and division, 2009-'14.\n",
    "Table 29: Distribution of affected area and loss of major crops by type of disaster categories and division, 2009-'14    \n",
    "Table 30: Distribution of affected area and value of loss and damage of minor crops by type of disaster categories and division, 2009-'14.\n",
    "Table 31: Distribution of affected area and loss of major crops by division and district, 2009-'14.\n",
    "Table 32: Distribution of affected area and loss of minor crops by division and district, 2009-'14.\n",
    "Table 35: Distribution of area and damage value of land by disaster categories and division, 2009-'14.\n",
    "Table 36: Distribution of area and damage value of land by division and district, 2009-'14.\n",
    "Table 39: Distribution of population suffering from sickness and injury by sex, disaster categories and division, 2009-'14.\n",
    "Table 40: Distribution of population suffering from sickness and injury by sex, age group and division, 2009-'14.\n",
    "Table 41: Distribution of population suffering from sickness and injury by sex, division and district, 2009-'14.  \n",
    "Table 42: Distribution of number of total children and sick children by division and district, 2009-'14.\n",
    "Table 48: Distribution of Children did not attend to School Due to Natural Disaster by Division and District, 2009-'14.\n",
    "Table 51: Distribution of disaster preparedness of household by disaster category and division, 2009-'14.\n",
    "Table 52: Distribution of disaster preparedness of household by division and district, 2009-'14.\n",
    "Table 53: Distribution of households having disaster precaution measures according to prior-disaster experience by disaster and division, 2009-'14.\n",
    "Table 54: Distribution of household preparedness during disaster period untill normal situation by disaster and division, 2009-'14.\n",
    "Table 55: Distribution of household preparedness during disaster period untill normal situation by division and district, 2009-'14.\n",
    "Table 56: Distribution of household taken action (precaution) during disaster period until normal situation by disaster and division, 2009-'14.\n",
    "Table 57: Distribution of population suffering from disease due to disaster by division and district, 2014.\n",
    "Table 58: Distribution of population suffering from disease due to natural disaster by sex, age group, division and district, 2014.\n",
    "Table 59: Distribution of Population Suffering from Disease Due to natural disaster by Type of Disease, Division and District, 2014.    \n",
    "Table 60: Distribution of household members suffering from disease before disaster by division and district, 2009-'14.\n",
    "Table 61: Distribution of household members suffering from disease during disaster period by division and district, 2009-'14\n",
    "Table 62: Distribution of household members suffering from disease post disaster period by division and district, 2009-'14.\n",
    "Table 63: Distribution of main probable cause of suffering from disease due to disaster by division and district, 2014.    \n",
    "Table 64: Distribution of source of household drinking water during disaster period by division and district, 2009-'14.\n",
    "Table 65: Distribution of other use of water (cooking, sewerage, cleanliness etc.) before disaster period by division and district, 2009-'14.\n",
    "Table 66: Distribution of other use water (cooking, sewerage, cleanliness etc.) during disaster period by division and district, 2009-'14.\n",
    "Table 67: Distribution of disease status due to insufficient drinking and other use of water supply during/after disaster period by division and district, 2009-'14.    \n",
    "Table 68: Distribution of cause of main disease due to insufficient drinking and other use of water supply during/after disaster period by division and district, 2009-'14.\n",
    "Table 71: Distribution of respondent's knowledge and perception about main impact of climate change by division and district, 2014.\n",
    "Table 73: Distribution of Respondent's knowledge and perception about disaster management by division and district, 2014.\n",
    "Table 74: Distribution of household received finantial/rehabiltation support from government/non-government agency during/post disaster period by division and district, 2009-'14\n",
    "Table 75: Distribution of household received financial/rehabilitation support from different organization/ office during/post disaster period by division and district, 2009-'14.\n",
    "Table 76: Distribution of households received loan from post disaster period by division and district, 2009-'14.\n",
    "Table A1: Standard error calculate of total income and total damage and loss by divisiond/ istrict. \n",
    "    \n",
    "    \n",
    "    \n",
    "    "
   ]
  }
 ],
 "metadata": {
  "kernelspec": {
   "display_name": "Python 3",
   "language": "python",
   "name": "python3"
  },
  "language_info": {
   "codemirror_mode": {
    "name": "ipython",
    "version": 3
   },
   "file_extension": ".py",
   "mimetype": "text/x-python",
   "name": "python",
   "nbconvert_exporter": "python",
   "pygments_lexer": "ipython3",
   "version": "3.6.7"
  }
 },
 "nbformat": 4,
 "nbformat_minor": 4
}
