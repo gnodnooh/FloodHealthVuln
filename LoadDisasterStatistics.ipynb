{
 "cells": [
  {
   "cell_type": "code",
   "execution_count": null,
   "metadata": {},
   "outputs": [],
   "source": [
    "### Read Disaster-realted Statistics (BBS, 2015)"
   ]
  },
  {
   "cell_type": "code",
   "execution_count": 1,
   "metadata": {},
   "outputs": [
    {
     "ename": "SyntaxError",
     "evalue": "invalid syntax (<ipython-input-1-3427511d581d>, line 4)",
     "output_type": "error",
     "traceback": [
      "\u001b[0;36m  File \u001b[0;32m\"<ipython-input-1-3427511d581d>\"\u001b[0;36m, line \u001b[0;32m4\u001b[0m\n\u001b[0;31m    Table 4: Distribution of household by main source of income and received remittance by division and district, 2014.\u001b[0m\n\u001b[0m          ^\u001b[0m\n\u001b[0;31mSyntaxError\u001b[0m\u001b[0;31m:\u001b[0m invalid syntax\n"
     ]
    }
   ],
   "source": [
    "# ADD RERIGION\n",
    "\n",
    "# Disaster-related Statistics (BBS, 2015) [7-10,23-28,30-56,61-66,69-74,86,91-125,130-139,143-146]\n",
    "Table 4: Distribution of household by main source of income and received remittance by division and district, 2014.\n",
    "Table 5: Distribution of main source oflighting and cooking fuel by division and district, 2014.\n",
    "Table 18: Distribution of annual household income from agricultural products by division and district, 2014.\n",
    "Table 20: Distribution of annual household income from non-agricultural sector by division and district, 2014.\n",
    "Table 22: Distribution of annual household income from other source by division and district, 2014.\n",
    "Table 23: Distribution of Disaster affected times of household by division, 2009-'14.\n",
    "Table 24: Distribution of affected households by disaster categories by division, 2009-'14.\n",
    "Table 25: Distribution of affected household and disaster categories by division and district, 2009-'14.\n",
    "Table 26: Distribution of household number of non working days due to last natural disaster by disaster categories and division, 2009-'14.\n",
    "Table 27: Distribution of Affected Household got early warning by disaster categories and division, 2009-'14.\n",
    "Table 28: Distribution of household got early warning by type of media, disaster categories and division, 2009-'14.\n",
    "Table 29: Distribution of affected area and loss of major crops by type of disaster categories and division, 2009-'14    \n",
    "Table 30: Distribution of affected area and value of loss and damage of minor crops by type of disaster categories and division, 2009-'14.\n",
    "Table 31: Distribution of affected area and loss of major crops by division and district, 2009-'14.\n",
    "Table 32: Distribution of affected area and loss of minor crops by division and district, 2009-'14.\n",
    "Table 35: Distribution of area and damage value of land by disaster categories and division, 2009-'14.\n",
    "Table 36: Distribution of area and damage value of land by division and district, 2009-'14.\n",
    "Table 39: Distribution of population suffering from sickness and injury by sex, disaster categories and division, 2009-'14.\n",
    "Table 40: Distribution of population suffering from sickness and injury by sex, age group and division, 2009-'14.\n",
    "Table 41: Distribution of population suffering from sickness and injury by sex, division and district, 2009-'14.  \n",
    "Table 42: Distribution of number of total children and sick children by division and district, 2009-'14.\n",
    "Table 48: Distribution of Children did not attend to School Due to Natural Disaster by Division and District, 2009-'14.\n",
    "Table 51: Distribution of disaster preparedness of household by disaster category and division, 2009-'14.\n",
    "Table 52: Distribution of disaster preparedness of household by division and district, 2009-'14.\n",
    "Table 53: Distribution of households having disaster precaution measures according to prior-disaster experience by disaster and division, 2009-'14.\n",
    "Table 54: Distribution of household preparedness during disaster period untill normal situation by disaster and division, 2009-'14.\n",
    "Table 55: Distribution of household preparedness during disaster period untill normal situation by division and district, 2009-'14.\n",
    "Table 56: Distribution of household taken action (precaution) during disaster period until normal situation by disaster and division, 2009-'14.\n",
    "Table 57: Distribution of population suffering from disease due to disaster by division and district, 2014.\n",
    "Table 58: Distribution of population suffering from disease due to natural disaster by sex, age group, division and district, 2014.\n",
    "Table 59: Distribution of Population Suffering from Disease Due to natural disaster by Type of Disease, Division and District, 2014.    \n",
    "Table 60: Distribution of household members suffering from disease before disaster by division and district, 2009-'14.\n",
    "Table 61: Distribution of household members suffering from disease during disaster period by division and district, 2009-'14\n",
    "Table 62: Distribution of household members suffering from disease post disaster period by division and district, 2009-'14.\n",
    "Table 63: Distribution of main probable cause of suffering from disease due to disaster by division and district, 2014.    \n",
    "Table 64: Distribution of source of household drinking water during disaster period by division and district, 2009-'14.\n",
    "Table 65: Distribution of other use of water (cooking, sewerage, cleanliness etc.) before disaster period by division and district, 2009-'14.\n",
    "Table 66: Distribution of other use water (cooking, sewerage, cleanliness etc.) during disaster period by division and district, 2009-'14.\n",
    "Table 67: Distribution of disease status due to insufficient drinking and other use of water supply during/after disaster period by division and district, 2009-'14.    \n",
    "Table 68: Distribution of cause of main disease due to insufficient drinking and other use of water supply during/after disaster period by division and district, 2009-'14.\n",
    "Table 71: Distribution of respondent's knowledge and perception about main impact of climate change by division and district, 2014.\n",
    "Table 73: Distribution of Respondent's knowledge and perception about disaster management by division and district, 2014.\n",
    "Table 74: Distribution of household received finantial/rehabiltation support from government/non-government agency during/post disaster period by division and district, 2009-'14\n",
    "Table 75: Distribution of household received financial/rehabilitation support from different organization/ office during/post disaster period by division and district, 2009-'14.\n",
    "Table 76: Distribution of households received loan from post disaster period by division and district, 2009-'14.\n",
    "Table A1: Standard error calculate of total income and total damage and loss by divisiond/ istrict. \n",
    "    \n",
    "    \n",
    "\n",
    "    "
   ]
  },
  {
   "cell_type": "code",
   "execution_count": null,
   "metadata": {},
   "outputs": [],
   "source": []
  },
  {
   "cell_type": "code",
   "execution_count": null,
   "metadata": {},
   "outputs": [],
   "source": [
    "### Type of House and Tenancy"
   ]
  },
  {
   "cell_type": "code",
   "execution_count": null,
   "metadata": {},
   "outputs": [],
   "source": [
    "df = pd.read_excel('./data/union/Type of House and Tenancy.xls',\n",
    "                   skiprows=11,header=0,index_col=0,skipfooter=8)\n",
    "\n"
   ]
  }
 ],
 "metadata": {
  "kernelspec": {
   "display_name": "Python 3",
   "language": "python",
   "name": "python3"
  },
  "language_info": {
   "codemirror_mode": {
    "name": "ipython",
    "version": 3
   },
   "file_extension": ".py",
   "mimetype": "text/x-python",
   "name": "python",
   "nbconvert_exporter": "python",
   "pygments_lexer": "ipython3",
   "version": "3.6.7"
  }
 },
 "nbformat": 4,
 "nbformat_minor": 4
}
