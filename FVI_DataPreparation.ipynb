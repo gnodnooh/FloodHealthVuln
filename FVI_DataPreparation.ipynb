{
 "cells": [
  {
   "cell_type": "markdown",
   "metadata": {},
   "source": [
    "## Flood Vulnerability Index (FVI) Data Preparation\n",
    "This notebook imports socioeconomic and physical data for FVI assessment."
   ]
  },
  {
   "cell_type": "code",
   "execution_count": 347,
   "metadata": {},
   "outputs": [],
   "source": [
    "import os\n",
    "import sys\n",
    "import numpy as np\n",
    "import pandas as pd\n",
    "import geopandas as gpd\n",
    "import rasterio\n",
    "from sklearn.preprocessing import MinMaxScaler, PowerTransformer, QuantileTransformer\n",
    "import fhv\n",
    "from tabula import read_pdf\n",
    "from functools import reduce\n",
    "\n",
    "# UPAZILA SHAPEFILE\n",
    "# ------------------------------------------------- #\n",
    "shape = gpd.read_file('./data/admin_boundary/bgd_admbnda_adm3_bbs_20180410.shp')\n",
    "# Convert ADM3_PCODE of Mymensingh (45) division (total 378 unions) (45 -> 30)\n",
    "f45t30 = '30' + shape.loc[shape['ADM1_PCODE'] == '45', 'ADM3_PCODE'].str[2:]\n",
    "shape.loc[shape['ADM1_PCODE'] == '45', 'ADM3_PCODE'] = f45t30.values\n",
    "shape['ADM3_PCODE'] = shape['ADM3_PCODE'].astype(int)\n",
    "# ------------------------------------------------- #\n",
    "# shape[['ADM2_PCODE','ADM2_EN','ADM3_PCODE','ADM3_EN']].sort_values(\n",
    "#     by='ADM3_PCODE').reset_index(drop=True).to_excel('./data/upazila_list.xlsx')"
   ]
  },
  {
   "cell_type": "markdown",
   "metadata": {},
   "source": [
    "### Load demographic and socio-economic data\n",
    "This section imports a variety of demographic and socio-economic data from multiple sources:\n",
    "- [Bangladesh Bureau of Statistics (BBS)](http://203.112.218.65:8008/) 2011 census data downloaded from [BBS-REDATAM](http://203.112.218.69/binbgd/RpWebEngine.exe/Portal).\n",
    "- [Bangladesh 2010 Poverty Maps (Zila Upazila)](http://203.112.218.65:8008/WebTestApplication/userfiles/Image/LatestReports/Bangladesh_ZilaUpazila_pov_est_2010.pdf) is obtained from [BBS Income, Expenditure & Poverty](http://203.112.218.65:8008/PageWebMenuContent.aspx?MenuKey=366)."
   ]
  },
  {
   "cell_type": "code",
   "execution_count": 342,
   "metadata": {},
   "outputs": [],
   "source": [
    "census_table = [['PAGEWEAK','pos','Person','Demographic','Percent of weak population (age below 5 or above 65 years)','MinMax'],\n",
    "                ['PFEMALE','pos','Person','Demographic','Percent of woman','MinMax'],\n",
    "                ['PRURAL','pos','House','Built','Percent of households in rural areas','MinMax'], \n",
    "                ['PWEAKBUILT','pos','House','Built','Percent of households with weak materials','MinMax'],\n",
    "                ['PNOWATER','pos','House','Built','Percent of households without public water supply','MinMax'],\n",
    "                ['PNOSANITARY','pos','House','Built','Percent of households without sanitary facilities','MinMax'],\n",
    "                ['PNOELEC','pos','House','Built','Percent of households without electricity','MinMax'],\n",
    "                ['PDISABL','pos','Person','Social','Percent of population with any sort of disability','MinMax'],\n",
    "                ['PLITERACY','pos','Person','Social','Percent of population who cannot read and write','MinMax'],\n",
    "                ['PETHNIC','pos','Person','Social','Percent of ethnic population','MinMax'],\n",
    "                ['PRENT','pos','House','Social','Percent of rented houses','MinMax'],\n",
    "                ['PNOEMPLOY','pos','Person','Economic','Percent of population without employment','MinMax'],\n",
    "                ['PAGRICULT','pos','Person','Economic','Percent of population with agricultural jobs','MinMax'],\n",
    "                ['PPOOR','pos','House','Economic','Percentage of population below the upper poverty line','MinMax'],\n",
    "                ['PPOOREXTR','pos','House','Economic','Percentage of population below the lower povery line','MinMax'],\n",
    "                ['PNOPRIEDU','pos','Person','Education','Percent of population without primary education','MinMax'],\n",
    "                ['PNOCOLLEGE','pos','Person','Education','Percent of population without college education','MinMax']\n",
    "               ]\n",
    "census_table = pd.DataFrame(census_table, columns=['Name','Sign','Type','Domain','Description','Normalization'])"
   ]
  },
  {
   "cell_type": "code",
   "execution_count": 343,
   "metadata": {},
   "outputs": [],
   "source": [
    "# POPULATION DATA\n",
    "# ------------------------------------------------- #\n",
    "# BGD Census total population in 2011:  144,043,697\n",
    "# BGD World Bank population in 2011:    149,273,778\n",
    "# BGD World Bank population in 2017:    159,670,593\n",
    "# ------------------------------------------------- #\n",
    "df = fhv.LoadCensusBBS('./data/census2011/age 5 years group.xls')\n",
    "popu2011 = df.sum(axis=1)\n",
    "popu2017 = (popu2011/popu2011.sum()*159670593).astype(int)\n",
    "\n",
    "\n",
    "# DEMOGRAPHIC\n",
    "census = pd.DataFrame(index=df.index)\n",
    "census.index.name = 'UID'\n",
    "census['UID4'] = census.index % 10000   # Add a column of the last 4 digits of UID\n",
    "# - PAGEWEAK: Percent weak population (age below 5 or above 65 years)\n",
    "census['PAGEWEAK'] = df[df.columns[[0,14,15,16]]].sum(1)/df.sum(1)\n",
    "# - PFEMALE: Percent of females\n",
    "df = fhv.LoadCensusBBS('./data/census2011/sex.xls')\n",
    "census['PFEMALE'] = df['Female']/df.sum(axis=1)\n",
    "\n",
    "\n",
    "# BUILT ENVIRONMENT\n",
    "# - PRURAL: Percent of households in rural areas\n",
    "df = fhv.LoadCensusBBS('./data/census2011/Area of Residence.xls')\n",
    "census['PRURAL'] = df['Rural']/df.sum(axis=1)\n",
    "# - PWEAKBUILT: Percent of households with weak materials\n",
    "# (#house_Kutcha_and_Jhupri / #house_total)\n",
    "# *Pucca means high quality materials (e.g., cement or RCC)\n",
    "# *Kutcha & Jhupri means weaker materials (e.g., mud, clay, lime, or thatched)\n",
    "df = fhv.LoadCensusBBS('./data/census2011/Type of House.xls')\n",
    "census['PWEAKBUILT'] = df[['Pucca','Semi-pucca']].sum(axis=1)/df.sum(1)\n",
    "# - PNOWATER: Percent of households without public water supply\n",
    "# *This includes \"Other\", excluding \"Tap\" and \"Tube-well\" water supply\n",
    "df = fhv.LoadCensusBBS('./data/census2011/Source of Drinking Water.xls')\n",
    "census['PNOWATER'] = df[df.columns[-1]]/df.sum(axis=1)\n",
    "# - PNOSANITARY: Percent of households without sanitary facilities\n",
    "# *This includes \"Non-Sanitary\" and \"None\" and excludes \n",
    "# *\"Sanitary (with Water Seal)\" and \"Sanitary (no Water Seal)\"\n",
    "df = fhv.LoadCensusBBS('./data/census2011/Toilet Facilities.xls')\n",
    "census['PNOSANITARY'] = df[df.columns[2:]].sum(axis=1)/df.sum(axis=1)\n",
    "# - PNOELEC: Percent household without electricity\n",
    "df = fhv.LoadCensusBBS('./data/census2011/Electricity Connection.xls')\n",
    "census['PNOELEC'] = df['No']/df.sum(axis=1)\n",
    "\n",
    "\n",
    "# SOCIAL\n",
    "# - PDISABL: Percent of population with disability\n",
    "# *This includes all kinds of disabilities (Speech, Vision, Hearing, Physical, Mental, Autistic)\n",
    "df = fhv.LoadCensusBBS('./data/census2011/Disability.xls')\n",
    "census['PDISABL'] = df[df.columns[1:]].sum(axis=1)/df.sum(axis=1)\n",
    "# - PLITERACY: Percent of population who cannot read and write\n",
    "df = fhv.LoadCensusBBS('./data/census2011/Literacy.xls')\n",
    "census['PLITERACY'] = df['No']/df.sum(axis=1)\n",
    "# - PETHNIC: Percent of ethnic population \n",
    "df = fhv.LoadCensusBBS('./data/census2011/Ethnic Population.xls')\n",
    "census['PETHNIC'] = df['Yes']/df.sum(axis=1)\n",
    "# - PRENT: Percent of rented houses\n",
    "df = fhv.LoadCensusBBS('./data/census2011/Tenancy.xls')\n",
    "census['PRENT'] = df[['Rented', 'Rent-free']].sum(axis=1)/df.sum(axis=1)\n",
    "\n",
    "\n",
    "# EDUCATION\n",
    "# - PNOPRIEDU: Percent of population who dont complete primary education\n",
    "# *BGD's primary education is ClassI-ClassV\n",
    "# *https://en.wikipedia.org/wiki/Education_in_Bangladesh#/media/File:BangEduSys.png\n",
    "df = fhv.LoadCensusBBS('./data/census2011/Educational Attainment.xls')\n",
    "census['PNOPRIEDU'] = df[df.columns[:5]].sum(axis=1)/df.sum(axis=1)\n",
    "# - PNOCOLLEGE: Percent of population who don't attend college\n",
    "census['PNOCOLLEGE'] = df[df.columns[:-4]].sum(axis=1)/df.sum(axis=1)\n",
    "\n",
    "\n",
    "# EMPLOYMENT\n",
    "# - PNOEMPLOY: Percent of population without employment\n",
    "# *This includes \"Employed\" and \"Household Work\" and excludes \"Looking For Job\" and \"Do Not Work\"\n",
    "df = fhv.LoadCensusBBS('./data/census2011/Activity Status.xls')\n",
    "census['PNOEMPLOY'] = df[['Looking For Job','Do Not Work']].sum(axis=1)/df.sum(axis=1)\n",
    "# - PAGRICULT : Percent of population with agricultural jobs\n",
    "df = fhv.LoadCensusBBS('./data/census2011/Employment Field.xls')\n",
    "census['PAGRICULT'] = df['Agriculture']/df.sum(axis=1)\n",
    "\n",
    "\n",
    "# POVERTY\n",
    "# Read PDF document and obtain data\n",
    "df = read_pdf('./data/socioecon/Bangladesh_ZilaUpazila_pov_est_2010.pdf', \n",
    "             pages=list(range(3,13)), multiple_tables=False,\n",
    "             pandas_options={'header': None, 'skiprows':2})\n",
    "df.columns = ['zl-code','zila-name','UID4','upz-name','PPOOREXTR','PPOOR']\n",
    "df = df.drop(['zl-code','zila-name','upz-name'], axis=1)\n",
    "# Percentage to decimal\n",
    "df[['PPOOREXTR','PPOOR']] = df[['PPOOREXTR','PPOOR']]/100\n",
    "# Here we use only 4 upazila code to match with census UID, since all 4 digits are unique! Which means\n",
    "assert len(np.unique(census.index % 10000)) == len(np.unique(df['UID4']))\n",
    "# Sorting by UID4\n",
    "df = df.set_index('UID4').sort_index()\n",
    "# Merging\n",
    "census = census.reset_index().merge(df, on='UID4').set_index('UID').drop('UID4',axis=1)\n",
    "# Reordering to be matched with census_name\n",
    "census = census[census_table['Name']]\n",
    "\n",
    "\n",
    "# Additional columns\n",
    "census_table['Scale'] = 'Upazila'\n",
    "census_table['Source'] = 'BBS (2011)'"
   ]
  },
  {
   "cell_type": "markdown",
   "metadata": {},
   "source": [
    "### Load variabes of Disaster-related Statistics (BBS, 2015)\n",
    "- Original data (pdf file) is from [Bangladesh Disaster-related Statistics 2015: Climate Change and Natural Disaster Perspectives](http://203.112.218.65:8008/PageWebMenuContent.aspx?MenuKey=242).\n",
    "- The data extraction is done by [LoadDisasterStatistics.ipynb](LoadDisasterStatistics.ipynb)"
   ]
  },
  {
   "cell_type": "code",
   "execution_count": 344,
   "metadata": {},
   "outputs": [],
   "source": [
    "disaster_raw = pd.read_hdf('./data/disaster_statistics.hdf',key='data')\n",
    "disaster_table = pd.read_hdf('./data/disaster_statistics_table.hdf', key='table')\n",
    "# Expand District-level data to Upazila-level\n",
    "disaster = pd.DataFrame(index=(census.index / 100).astype(int)).join(disaster_raw)\n",
    "disaster.index = census.index"
   ]
  },
  {
   "cell_type": "markdown",
   "metadata": {},
   "source": [
    "### Complete district-level indicators (total XX indicators)\n",
    "- Merge DataFrames of Census and Disaster\n",
    "- Flip signs of the indicators\n",
    "    - Swap signs of the attributes expected to have a \"negative\" effect on vulnerability.\n",
    "- Scaling values to 0-1 by Min/Max values"
   ]
  },
  {
   "cell_type": "code",
   "execution_count": 345,
   "metadata": {},
   "outputs": [],
   "source": [
    "# Merge DataFrames of Census, Risk, and Impact\n",
    "data_table = pd.concat([census_table, disaster_table]).reset_index(drop=True)\n",
    "data_frames = [census,disaster]\n",
    "data = reduce(lambda  left,right: pd.merge(left,right,on=['UID'],how='outer'), data_frames)\n",
    "\n",
    "# Flip signs of the indicators\n",
    "for index, row in data_table.iterrows():\n",
    "    if row['Sign'] == 'neg':\n",
    "        data[row['Name']] = -data[row['Name']].values\n",
    "    elif row['Sign'] == 'pos':\n",
    "        pass\n",
    "    else:\n",
    "        raise Exception(\"problem\")\n",
    "        \n",
    "# Scaling to 0-1 with Max/Min values\n",
    "scaler = MinMaxScaler()\n",
    "data[data.columns] = scaler.fit_transform(data[data.columns])"
   ]
  },
  {
   "cell_type": "code",
   "execution_count": 346,
   "metadata": {},
   "outputs": [
    {
     "data": {
      "text/plain": [
       "array(['Percent of weak population (age below 5 or above 65 years)',\n",
       "       'Percent of woman', 'Percent of households in rural areas',\n",
       "       'Percent of households with weak materials',\n",
       "       'Percent of households without public water supply',\n",
       "       'Percent of households without sanitary facilities',\n",
       "       'Percent of households without electricity',\n",
       "       'Percent of population with any sort of disability',\n",
       "       'Percent of population who cannot read and write',\n",
       "       'Percent of ethnic population', 'Percent of rented houses',\n",
       "       'Percent of population without employment',\n",
       "       'Percent of population with agricultural jobs',\n",
       "       'Percentage of population below the upper poverty line',\n",
       "       'Percentage of population below the lower povery line',\n",
       "       'Percent of population without primary education',\n",
       "       'Percent of population without college education',\n",
       "       'Percent of households affected by floods',\n",
       "       'Percent of children did not attend to school due to disasters',\n",
       "       'Percent of households has not taken disaster preparedness',\n",
       "       'Percent of population who has sufferred from disease due to disasters',\n",
       "       'Percent of households experienced diarrhea during post disaster period',\n",
       "       'Percent of households with disease due to insufficient drinking water during/after disaster period',\n",
       "       'Percent of households with knowledge and perception about disaster',\n",
       "       'Percent of household received finantial support from agencies during/after disaster peirod',\n",
       "       'Ratio of total damage and loss to total income in district level'],\n",
       "      dtype=object)"
      ]
     },
     "execution_count": 346,
     "metadata": {},
     "output_type": "execute_result"
    }
   ],
   "source": [
    "# Re-order data\n",
    "data_table.Description.values"
   ]
  },
  {
   "cell_type": "markdown",
   "metadata": {},
   "source": [
    "### Load health data from geospatial data\n",
    "- The main datasets are obtained from the [Directorate General of Health Services (DGHS)](https://dghs.gov.bd/index.php/en/home) - [Health Dashboard](http://103.247.238.81/webportal/pages/index.php).\n",
    "- The data extraction is done by [LoadHealthData.ipynb](LoadHealthData.ipynb)\n"
   ]
  },
  {
   "cell_type": "code",
   "execution_count": 309,
   "metadata": {},
   "outputs": [],
   "source": []
  },
  {
   "cell_type": "code",
   "execution_count": 171,
   "metadata": {},
   "outputs": [],
   "source": []
  },
  {
   "cell_type": "code",
   "execution_count": null,
   "metadata": {},
   "outputs": [],
   "source": []
  },
  {
   "cell_type": "code",
   "execution_count": null,
   "metadata": {},
   "outputs": [],
   "source": []
  },
  {
   "cell_type": "code",
   "execution_count": null,
   "metadata": {},
   "outputs": [],
   "source": []
  },
  {
   "cell_type": "code",
   "execution_count": null,
   "metadata": {},
   "outputs": [],
   "source": []
  },
  {
   "cell_type": "code",
   "execution_count": null,
   "metadata": {},
   "outputs": [],
   "source": []
  },
  {
   "cell_type": "code",
   "execution_count": null,
   "metadata": {},
   "outputs": [],
   "source": []
  },
  {
   "cell_type": "code",
   "execution_count": null,
   "metadata": {},
   "outputs": [],
   "source": []
  },
  {
   "cell_type": "code",
   "execution_count": null,
   "metadata": {},
   "outputs": [],
   "source": []
  },
  {
   "cell_type": "code",
   "execution_count": 7,
   "metadata": {},
   "outputs": [
    {
     "name": "stdout",
     "output_type": "stream",
     "text": [
      "./data/data.hdf is saved.\n",
      "./data/data_table.hdf is saved.\n"
     ]
    }
   ],
   "source": [
    "# Save data\n",
    "if False:\n",
    "    fn = './data/data.hdf'\n",
    "    data.to_hdf(fn, 'data'); print('%s is saved.' % fn)\n",
    "    fn = './data/data_table.hdf'\n",
    "    data_table.to_hdf(fn, 'name'); print('%s is saved.' % fn)"
   ]
  },
  {
   "cell_type": "markdown",
   "metadata": {},
   "source": [
    "## Load physical data"
   ]
  },
  {
   "cell_type": "code",
   "execution_count": null,
   "metadata": {},
   "outputs": [],
   "source": []
  },
  {
   "cell_type": "code",
   "execution_count": null,
   "metadata": {},
   "outputs": [],
   "source": []
  },
  {
   "cell_type": "code",
   "execution_count": null,
   "metadata": {},
   "outputs": [],
   "source": []
  },
  {
   "cell_type": "code",
   "execution_count": null,
   "metadata": {},
   "outputs": [],
   "source": []
  },
  {
   "cell_type": "code",
   "execution_count": null,
   "metadata": {},
   "outputs": [],
   "source": []
  },
  {
   "cell_type": "code",
   "execution_count": null,
   "metadata": {},
   "outputs": [],
   "source": []
  },
  {
   "cell_type": "code",
   "execution_count": null,
   "metadata": {},
   "outputs": [],
   "source": []
  },
  {
   "cell_type": "code",
   "execution_count": null,
   "metadata": {},
   "outputs": [],
   "source": []
  },
  {
   "cell_type": "code",
   "execution_count": null,
   "metadata": {},
   "outputs": [],
   "source": []
  },
  {
   "cell_type": "code",
   "execution_count": null,
   "metadata": {},
   "outputs": [],
   "source": []
  },
  {
   "cell_type": "code",
   "execution_count": null,
   "metadata": {},
   "outputs": [],
   "source": []
  }
 ],
 "metadata": {
  "kernelspec": {
   "display_name": "Python 3",
   "language": "python",
   "name": "python3"
  },
  "language_info": {
   "codemirror_mode": {
    "name": "ipython",
    "version": 3
   },
   "file_extension": ".py",
   "mimetype": "text/x-python",
   "name": "python",
   "nbconvert_exporter": "python",
   "pygments_lexer": "ipython3",
   "version": "3.6.7"
  }
 },
 "nbformat": 4,
 "nbformat_minor": 4
}
